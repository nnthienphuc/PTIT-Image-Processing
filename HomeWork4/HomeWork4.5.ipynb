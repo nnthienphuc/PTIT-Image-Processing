{
 "cells": [
  {
   "cell_type": "markdown",
   "metadata": {},
   "source": [
    "## HomeWork 4\n",
    "- NGUYEN NGOC THIEN PHUC\n",
    "- N21DCCN066\n",
    "- D21CQCNPM01-N"
   ]
  },
  {
   "cell_type": "code",
   "execution_count": 1,
   "metadata": {},
   "outputs": [
    {
     "data": {
      "image/png": "[encoded data removed]",
      "text/plain": [
       "<Figure size 640x480 with 2 Axes>"
      ]
     },
     "metadata": {},
     "output_type": "display_data"
    },
    {
     "name": "stdout",
     "output_type": "stream",
     "text": [
      "Real Part of DFT(I5):\n",
      " [[ 4253541.1835  3690016.5123  1564390.6388 -3368252.9701 -8037513.2481\n",
      "  -3368252.9701  1564390.6388  3690016.5123]\n",
      " [ 3690016.5123  1647443.4988 -1713975.5818 -6527483.6577 -6972673.9462\n",
      "    683454.8656  4428244.5722  4754855.8142]\n",
      " [ 1564390.6388 -1713975.5818 -5495103.5322 -8365490.9118 -2956079.6657\n",
      "   5887903.0483  6645824.2212  4428244.5722]\n",
      " [-3368252.9701 -6527483.6577 -8365490.9118 -5699488.7148  6364670.6856\n",
      "  11033930.9636  5887903.0483   683454.8656]\n",
      " [-8037513.2481 -6972673.9462 -2956079.6657  6364670.6856 15187730.4538\n",
      "   6364670.6856 -2956079.6657 -6972673.9462]\n",
      " [-3368252.9701   683454.8656  5887903.0483 11033930.9636  6364670.6856\n",
      "  -5699488.7148 -8365490.9118 -6527483.6577]\n",
      " [ 1564390.6388  4428244.5722  6645824.2212  5887903.0483 -2956079.6657\n",
      "  -8365490.9118 -5495103.5322 -1713975.5818]\n",
      " [ 3690016.5123  4754855.8142  4428244.5722   683454.8656 -6972673.9462\n",
      "  -6527483.6577 -1713975.5818  1647443.4988]]\n",
      "Imaginary Part of DFT(I5):\n",
      " [[        0.       2570749.4843   5081433.5824   5965579.9131\n",
      "          0.      -5965579.9131  -5081433.5824  -2570749.4843]\n",
      " [  2570749.4843   4460334.3646   5353710.8641   3139537.5747\n",
      "   -4857701.8799  -7210938.5233  -3462742.4571        -0.    ]\n",
      " [  5081433.5824   5353710.8641   3737754.4662  -1829783.5747\n",
      "   -9601903.8869  -6217890.3171         0.       3462742.4571]\n",
      " [  5965579.9131   3139537.5747  -1829783.5747  -9447932.5446\n",
      "  -11272591.4895         0.       6217890.3171   7210938.5233]\n",
      " [        0.      -4857701.8799  -9601903.8869 -11272591.4895\n",
      "         -0.      11272591.4895   9601903.8869   4857701.8799]\n",
      " [ -5965579.9131  -7210938.5233  -6217890.3171        -0.\n",
      "   11272591.4895   9447932.5446   1829783.5747  -3139537.5747]\n",
      " [ -5081433.5824  -3462742.4571         0.       6217890.3171\n",
      "    9601903.8869   1829783.5747  -3737754.4662  -5353710.8641]\n",
      " [ -2570749.4843         0.       3462742.4571   7210938.5233\n",
      "    4857701.8799  -3139537.5747  -5353710.8641  -4460334.3646]]\n"
     ]
    }
   ],
   "source": [
    "import numpy as np\n",
    "import matplotlib.pyplot as plt\n",
    "import cv2 as cv\n",
    "\n",
    "\n",
    "def read_binary_image(image_path):\n",
    "    with open(image_path, 'rb') as f:\n",
    "        return np.fromfile(f, np.uint8)\n",
    "\n",
    "\n",
    "cols, rows = np.meshgrid(np.arange(8), np.arange(8))\n",
    "# Problem 1: Define I5\n",
    "u1 = 1.5\n",
    "v1 = 1.5\n",
    "I5 = np.cos(1j * 2 * np.pi / 8 * (u1 * cols + v1 * rows))\n",
    "# Real and Imaginary parts as grayscale images\n",
    "plt.subplot(1,2,1)\n",
    "plt.imshow(I5.real, cmap='gray')\n",
    "plt.title(\"Real Part of I5\")\n",
    "cv.imwrite(\"Homework4/(4_5)Real Part of I5.png\", I5.real)\n",
    "\n",
    "plt.subplot(1,2,2)\n",
    "plt.imshow(I5.imag, cmap='gray')\n",
    "plt.title(\"Imaginary Part of I5\")\n",
    "cv.imwrite(\"Homework4/(4_5)Imaginary Part of I5.png\", I5.imag)\n",
    "\n",
    "plt.show()\n",
    "\n",
    "# Compute centered DFT of I5\n",
    "I5_dft = np.fft.fftshift(np.fft.fft2(I5))\n",
    "\n",
    "# Print real and imaginary parts of the DFT\n",
    "print(\"Real Part of DFT(I5):\\n\", np.round(I5_dft.real, 4))\n",
    "print(\"Imaginary Part of DFT(I5):\\n\", np.round(I5_dft.imag, 4))"
   ]
  }
 ],
 "metadata": {
  "kernelspec": {
   "display_name": "venv",
   "language": "python",
   "name": "python3"
  },
  "language_info": {
   "codemirror_mode": {
    "name": "ipython",
    "version": 3
   },
   "file_extension": ".py",
   "mimetype": "text/x-python",
   "name": "python",
   "nbconvert_exporter": "python",
   "pygments_lexer": "ipython3",
   "version": "3.11.9"
  }
 },
 "nbformat": 4,
 "nbformat_minor": 2
}
