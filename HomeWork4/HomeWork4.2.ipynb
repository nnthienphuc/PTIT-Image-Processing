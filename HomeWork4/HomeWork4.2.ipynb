{
 "cells": [
  {
   "cell_type": "markdown",
   "metadata": {},
   "source": [
    "## HomeWork 4\n",
    "- NGUYEN NGOC THIEN PHUC\n",
    "- N21DCCN066\n",
    "- D21CQCNPM01-N"
   ]
  },
  {
   "cell_type": "code",
   "execution_count": 1,
   "metadata": {},
   "outputs": [
    {
     "data": {
      "image/png": "[encoded data removed]",
      "text/plain": [
       "<Figure size 640x480 with 2 Axes>"
      ]
     },
     "metadata": {},
     "output_type": "display_data"
    },
    {
     "name": "stdout",
     "output_type": "stream",
     "text": [
      "Real Part of DFT(I2):\n",
      " [[ 0. -0.  0. -0.  0. -0. -0. -0.]\n",
      " [-0. -0.  0.  0.  0.  0.  0.  0.]\n",
      " [ 0.  0. 32. -0. -0. -0.  0.  0.]\n",
      " [-0. -0. -0.  0.  0. -0. -0.  0.]\n",
      " [ 0.  0. -0.  0. -0.  0.  0.  0.]\n",
      " [-0.  0. -0. -0.  0.  0. -0. -0.]\n",
      " [-0.  0.  0. -0.  0. -0.  0.  0.]\n",
      " [-0.  0.  0.  0.  0.  0.  0. -0.]]\n",
      "Imaginary Part of DFT(I2):\n",
      " [[-0.  0. -0.  0.  0. -0. -0. -0.]\n",
      " [ 0. -0. -0. -0.  0.  0.  0.  0.]\n",
      " [-0. -0.  0. -0. -0. -0. -0. -0.]\n",
      " [ 0. -0. -0. -0.  0.  0.  0.  0.]\n",
      " [ 0.  0. -0.  0. -0. -0. -0. -0.]\n",
      " [-0.  0. -0. -0. -0.  0.  0.  0.]\n",
      " [-0.  0. -0.  0. -0.  0. -0.  0.]\n",
      " [-0. -0. -0.  0. -0.  0.  0.  0.]]\n"
     ]
    }
   ],
   "source": [
    "import numpy as np\n",
    "import matplotlib.pyplot as plt\n",
    "import cv2 as cv\n",
    "\n",
    "\n",
    "def read_binary_image(image_path):\n",
    "    with open(image_path, 'rb') as f:\n",
    "        return np.fromfile(f, np.uint8)\n",
    "\n",
    "\n",
    "cols, rows = np.meshgrid(np.arange(8), np.arange(8))\n",
    "# Problem 1: Define I2\n",
    "u0 = 2\n",
    "v0 = 2\n",
    "I2 = 0.5 * np.exp(-1j * 2 * np.pi / 8 * (u0 * cols + v0 * rows))\n",
    "# Real and Imaginary parts as grayscale images\n",
    "plt.subplot(1,2,1)\n",
    "plt.imshow(I2.real, cmap='gray')\n",
    "plt.title(\"Real Part of I2\")\n",
    "cv.imwrite(\"Homework4/(4_2)Real Part of I2.png\", I2.real)\n",
    "\n",
    "\n",
    "plt.subplot(1,2,2)\n",
    "plt.imshow(I2.imag, cmap='gray')\n",
    "plt.title(\"Imaginary Part of I2\")\n",
    "cv.imwrite(\"Homework4/(4_2)Imaginary Part of I2.png\", I2.imag)\n",
    "\n",
    "plt.show()\n",
    "\n",
    "# Compute centered DFT of I2\n",
    "I2_dft = np.fft.fftshift(np.fft.fft2(I2))\n",
    "\n",
    "# Print real and imaginary parts of the DFT\n",
    "print(\"Real Part of DFT(I2):\\n\", np.round(I2_dft.real, 4))\n",
    "print(\"Imaginary Part of DFT(I2):\\n\", np.round(I2_dft.imag, 4))"
   ]
  }
 ],
 "metadata": {
  "kernelspec": {
   "display_name": "venv",
   "language": "python",
   "name": "python3"
  },
  "language_info": {
   "codemirror_mode": {
    "name": "ipython",
    "version": 3
   },
   "file_extension": ".py",
   "mimetype": "text/x-python",
   "name": "python",
   "nbconvert_exporter": "python",
   "pygments_lexer": "ipython3",
   "version": "3.11.9"
  }
 },
 "nbformat": 4,
 "nbformat_minor": 2
}
